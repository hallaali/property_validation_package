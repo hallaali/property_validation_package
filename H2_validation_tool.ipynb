{
 "cells": [
  {
   "cell_type": "code",
   "execution_count": 1,
   "id": "313ac518-6e22-435a-9066-5098cb9eb7b0",
   "metadata": {},
   "outputs": [],
   "source": [
    "import numpy as np\n",
    "import matplotlib.pyplot as plt\n",
    "from matplotlib.figure import Figure\n",
    "from string import Template\n",
    "import os\n",
    "import pandas as pd\n",
    "from scipy import interpolate\n",
    "from mpl_toolkits.axes_grid1 import Divider, Size\n",
    "plt.style.use('fivethirtyeight')"
   ]
  },
  {
   "cell_type": "code",
   "execution_count": 2,
   "id": "b95afb7c",
   "metadata": {},
   "outputs": [],
   "source": [
    "# Hydrogen Long_fuel\n",
    "\n",
    "file_path1 = r\"C:\\Users\\halla\\OneDrive\\Documents\\GitHub\\property_validation_package\\hydrogen_data\\HydrogenLong_fuel (1).csv\"\n",
    "headers = ['P', 'T', 'h', 's', 'k', 'mu', 'Cp', 'gam', 'rho', 'R']\n",
    "data1 = pd.read_csv(file_path1, usecols=headers, sep=',')"
   ]
  },
  {
   "cell_type": "code",
   "execution_count": 3,
   "id": "970ae36e",
   "metadata": {},
   "outputs": [],
   "source": [
    "# Hydrogen Long_mix\n",
    "\n",
    "file_path2 = r\"C:\\Users\\halla\\OneDrive\\Documents\\GitHub\\property_validation_package\\hydrogen_data\\HydrogenLong_mix.csv\"\n",
    "headers = ['WAR', 'FAR', 'P', 'T', 'h', 's', 'k', 'mu', 'Cp', 'gam', 'rho', 'R']\n",
    "data2 = pd.read_csv(file_path2, usecols=headers, sep=',')"
   ]
  },
  {
   "cell_type": "code",
   "execution_count": 4,
   "id": "be944798",
   "metadata": {},
   "outputs": [],
   "source": [
    "SYMBOLS = {'P': 'Pressure', 'T': 'Temperature [R]', 'P_val': 'Pressure', 'T_val': 'Temperature [R]',\n",
    "           'h': 'Enthalpy [BTU/lbm]', 's': 'Entropy [BTU/(lbm*R)]', 'k': 'Conductivity [BTU/(sec*ft*R)]', \n",
    "           'mu': 'Viscosity [lbm/(ft*sec)]', 'Cp': 'Specific Heat[BTU/lbm*R]', 'gam': 'Specific Heat Ratio [none]', \n",
    "           'rho': 'Density [lbm/ft3]', 'R': 'Gas Constant [BTU/(lbm*R)]', 'h_GASTAB': 'Enthalpy [BTU/lbm] - GASTAB', \n",
    "           's_GASTAB': 'Entropy [BTU/(lbm*R)] - GASTAB', 'k_GASTAB': 'Conductivity [BTU/(sec*ft*R)] - GASTAB', \n",
    "           'mu_GASTAB': 'Viscosity [lbm/(ft*sec)] - GASTAB', 'Cp_GASTAB': 'Specific Heat[BTU/lbm*R] - GASTAB', \n",
    "           'gam_GASTAB': 'Specific Heat Ratio [none] - GASTAB', 'rho_GASTAB': 'Density [lbm/ft3] - GASTAB', \n",
    "           'R_GASTAB': 'Gas Constant [BTU/(lbm*R)] - GASTAB', 'h_val_err': 'Enthalpy [BTU/lbm]', 's_val_err': 'Entropy [BTU/(lbm*R)]', \n",
    "           'k_val_err': 'Conductivity [BTU/(sec*ft*R)]', 'mu_val_err': 'Viscosity [lbm/(ft*sec)]', 'Cp_val_err': 'Specific Heat[BTU/lbm*R]', \n",
    "           'gam_val_err': 'Specific Heat Ratio [none]', 'rho_val_err': 'Density [lbm/ft3]', 'R_val_err': 'Gas Constant [BTU/(lbm*R)]'\n",
    "           }"
   ]
  },
  {
   "cell_type": "code",
   "execution_count": 6,
   "id": "ae8d4c68",
   "metadata": {},
   "outputs": [],
   "source": [
    "\n",
    "def plot_pressure_lines(data, xdata, ydata, foldername, title = None, xlabel = None, ylabel = None, numberofplots=1):\n",
    "    path ='C:/Users/halla/OneDrive/Documents/GitHub/property_validation_package/H2_validation_package/'+foldername\n",
    "    pressure_values = pd.unique(data['P'])\n",
    "    if numberofplots==1:\n",
    "        for p in pressure_values:\n",
    "            mask = data['P'] == p\n",
    "            df = data[mask]\n",
    "            ax = plt.subplot(111)\n",
    "            ax.plot(df[xdata],\n",
    "                     df[ydata],\n",
    "                     label = 'P = '+str(p))\n",
    "        plt.title('Hydrogen Properties')\n",
    "        plt.xlabel(SYMBOLS[xdata[0]])\n",
    "        plt.ylabel(SYMBOLS[ydata[0]])\n",
    "        plt.tight_layout(rect=[0,0,3,3])\n",
    "        box = ax.get_position()\n",
    "        ax.set_position([box.x0, box.y0 + box.height * 0.1,\n",
    "                         box.width, box.height * 0.9])\n",
    "        ax.legend(loc='upper center', bbox_to_anchor=(0.5, -0.1), fancybox=True, shadow=True, ncol=5, fontsize=8)\n",
    "        plt.savefig(path+'/'+str(ydata[0]+'vs'+str(xdata[0])), bbox_inches='tight')\n",
    "    elif numberofplots==2:\n",
    "        plot1 = plt.subplot(121)\n",
    "        plot2 = plt.subplot(122)\n",
    "        for p in pressure_values:\n",
    "            mask = data['P'] == p\n",
    "            df = data[mask]\n",
    "            plot1.plot(df[xdata[0]],\n",
    "                       df[ydata[0]],\n",
    "                       label = 'P = '+str(p))\n",
    "            plot2.plot(df[xdata[0]],\n",
    "                       df[ydata[1]],\n",
    "                       label = 'P = '+str(p))\n",
    "        plot1.set_xlabel(SYMBOLS[xdata[0]])\n",
    "        plot1.set_ylabel(SYMBOLS[ydata[0]])\n",
    "        plot2.set_xlabel(SYMBOLS[xdata[1]])\n",
    "        plot2.set_ylabel(SYMBOLS[ydata[1]])\n",
    "        plt.title('Hydrogen Properties')\n",
    "        plt.tight_layout(rect=[0,0,2,2])\n",
    "        plt.savefig(path+'/'+str(ydata[0]+'vs'+str(xdata[0])), bbox_inches='tight')\n",
    "        box = plot1.get_position()\n",
    "        plot1.set_position([box.x0, box.y0 + box.height * 0.1,\n",
    "                            box.width, box.height * 0.9])\n",
    "        plot1.legend(loc='upper center', bbox_to_anchor=(1.1, -0.11), fancybox=True, shadow=True, ncol=5)\n",
    "        box2 = plot2.get_position()\n",
    "        plot2.set_position([box2.x0, box2.y0 + box2.height * 0.1,\n",
    "                         box2.width, box2.height * 0.9])\n",
    "\n",
    "# for p in [['h'], ['s'], ['k'], ['mu'], ['Cp'], ['gam'], ['rho'], ['R']]:\n",
    "#     plot_pressure_lines(data1, ['T'], p, foldername='HydrogenLong_fuel')\n",
    "#     plt.cla()\n",
    "#     plot_pressure_lines(data2, ['T'], p, foldername='HydrogenLong_mix')\n",
    "#     plt.cla()"
   ]
  },
  {
   "cell_type": "code",
   "execution_count": 8,
   "id": "2786c515",
   "metadata": {},
   "outputs": [],
   "source": [
    "def contour_plot(data, x, y, z, foldername):\n",
    "    path ='C:/Users/halla/OneDrive/Documents/GitHub/property_validation_package/H2_validation_package/'+foldername\n",
    "    X = data[x[0]]\n",
    "    Y = data[y[0]]\n",
    "    Z = data[z[0]]\n",
    "    Xlin = np.linspace(X.min(), X.max(), 1000)\n",
    "    Ylin = np.linspace(Y.min(), Y.max(), 1000)\n",
    "    Xmesh, Ymesh = np.meshgrid(Xlin, Ylin)\n",
    "    Z_interp = interpolate.interp2d(X, Y, Z, kind ='linear')\n",
    "    levels = np.array([0, 0.001, 0.002, 0.003, 0.005, 0.007, 0.01, 0.02, 0.05, 0.1])\n",
    "    plt.contourf(Xmesh, Ymesh, Z_interp(Xlin, Ylin), colors=['blue', 'cornflowerblue', 'mediumseagreen', 'limegreen', 'greenyellow', 'yellow', 'orange', 'darkorange', 'red'], levels=levels, extend='both')\n",
    "    plt.colorbar().ax.set_title(z[0])\n",
    "    plt.tight_layout(rect=[0,0,3,3])\n",
    "    plt.title('Hydrogen Properties\\n% Error = |(Pkg - CEA) / CEA| * 100')\n",
    "    plt.xlabel(SYMBOLS[x[0]])\n",
    "    plt.ylabel(SYMBOLS[y[0]])\n",
    "    plt.savefig(path+'/'+str(z[0]), bbox_inches='tight')\n",
    "    \n",
    "# for p in [['h_val_err'], ['s_val_err'], ['k_val_err'], ['mu_val_err'], ['Cp_val_err'], ['gam_val_err'], ['rho_val_err'], ['R_val_err']]:\n",
    "#     contour_plot(data3, ['T_val'], ['P_val'], p, foldername=)\n",
    "#     plt.clf()\n",
    "#     contour_plot(data4, ['T_val'], ['P_val'], p, foldername=)\n",
    "#     plt.clf()\n",
    "\n"
   ]
  },
  {
   "cell_type": "code",
   "execution_count": null,
   "id": "c8dfe992",
   "metadata": {},
   "outputs": [],
   "source": []
  }
 ],
 "metadata": {
  "kernelspec": {
   "display_name": "Python 3",
   "language": "python",
   "name": "python3"
  },
  "language_info": {
   "codemirror_mode": {
    "name": "ipython",
    "version": 3
   },
   "file_extension": ".py",
   "mimetype": "text/x-python",
   "name": "python",
   "nbconvert_exporter": "python",
   "pygments_lexer": "ipython3",
   "version": "3.7.0"
  }
 },
 "nbformat": 4,
 "nbformat_minor": 5
}
