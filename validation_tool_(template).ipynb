{
 "cells": [
  {
   "cell_type": "code",
   "execution_count": 1,
   "id": "313ac518-6e22-435a-9066-5098cb9eb7b0",
   "metadata": {},
   "outputs": [],
   "source": [
    "import numpy as np\n",
    "import matplotlib.pyplot as plt\n",
    "from matplotlib.figure import Figure\n",
    "import pandas as pd\n",
    "from scipy import interpolate\n",
    "plt.style.use('fivethirtyeight')"
   ]
  },
  {
   "cell_type": "code",
   "execution_count": 2,
   "id": "a2a6bc6a",
   "metadata": {},
   "outputs": [],
   "source": [
    "# Read csv file 1 (% error)\n",
    "\n",
    "file_path1 = r\"!filepath!\"\n",
    "headers = ['P_val', 'T_val', 'h_val_CEA', 's_val_CEA', 'k_val_CEA', 'mu_val_CEA', 'Cp_val_CEA', \n",
    "           'gam_val_CEA', 'rho_val_CEA', 'R_val_CEA', 'h_val_pkg', 's_val_pkg', 'k_val_pkg', \n",
    "           'mu_val_pkg', 'Cp_val_pkg', 'gam_val_pkg', 'rho_val_pkg', 'R_val_pkg', 'h_val_err', \n",
    "           's_val_err', 'k_val_err', 'mu_val_err', 'Cp_val_err', 'gam_val_err', 'rho_val_err', \n",
    "           'R_val_err', 'outlier_val']\n",
    "data1 = pd.read_csv(file_path1, usecols=headers, sep=',')\n"
   ]
  },
  {
   "cell_type": "code",
   "execution_count": 3,
   "id": "ecef23d4-7801-4f26-9ca9-f2836917cad9",
   "metadata": {},
   "outputs": [],
   "source": [
    "# Read csv file 2 \n",
    "\n",
    "file_path2 = r'!filepath!'\n",
    "headers = ['P', 'T', 'h', 's', 'k', 'mu', 'Cp', 'gam', 'rho', 'R', 'h_GASTAB', 's_GASTAB', \n",
    "           'k_GASTAB', 'mu_GASTAB', 'Cp_GASTAB', 'gam_GASTAB', 'rho_GASTAB', 'R_GASTAB']\n",
    "data2 = pd.read_csv(file_path2, usecols=headers, sep=',')"
   ]
  },
  {
   "cell_type": "code",
   "execution_count": 7,
   "id": "be944798",
   "metadata": {},
   "outputs": [],
   "source": [
    "SYMBOLS = {'P': 'Pressure [psia]', 'T': 'Temperature [R]', 'P_val': 'Pressure [psia]', 'T_val': 'Temperature [R]',\n",
    "           'h': 'Enthalpy [BTU/lbm]', 's': 'Entropy [BTU/(lbm*R)]', 'k': 'Conductivity [BTU/(sec*ft*R)]', \n",
    "           'mu': 'Viscosity [lbm/(ft*sec)]', 'Cp': 'Specific Heat[BTU/lbm*R]', 'gam': 'Specific Heat Ratio [none]', \n",
    "           'rho': 'Density [lbm/ft3]', 'R': 'Gas Constant [BTU/(lbm*R)]', 'h_GASTAB': 'Enthalpy [BTU/lbm] - GASTAB', \n",
    "           's_GASTAB': 'Entropy [BTU/(lbm*R)] - GASTAB', 'k_GASTAB': 'Conductivity [BTU/(sec*ft*R)] - GASTAB', \n",
    "           'mu_GASTAB': 'Viscosity [lbm/(ft*sec)] - GASTAB', 'Cp_GASTAB': 'Specific Heat[BTU/lbm*R] - GASTAB', \n",
    "           'gam_GASTAB': 'Specific Heat Ratio [none] - GASTAB', 'rho_GASTAB': 'Density [lbm/ft3] - GASTAB', \n",
    "           'R_GASTAB': 'Gas Constant [BTU/(lbm*R)] - GASTAB', 'h_val_err': 'Enthalpy [BTU/lbm]', 's_val_err': 'Entropy [BTU/(lbm*R)]', \n",
    "           'k_val_err': 'Conductivity [BTU/(sec*ft*R)]', 'mu_val_err': 'Viscosity [lbm/(ft*sec)]', 'Cp_val_err': 'Specific Heat[BTU/lbm*R]', \n",
    "           'gam_val_err': 'Specific Heat Ratio [none]', 'rho_val_err': 'Density [lbm/ft3]', 'R_val_err': 'Gas Constant [BTU/(lbm*R)]',\n",
    "           'FAR_val': 'Fuel/Air Ratio', 'FAR_val2': 'Fuel/Air Ratio', 'WAR_val': 'Water/Air Ratio', 'WAR_val2': 'Water/Air Ratio',\n",
    "           'h_val2_err': 'Enthalpy [BTU/lbm]', 's_val2_err': 'Entropy [BTU/(lbm*R)]', 'k_val2_err': 'Conductivity [BTU/(sec*ft*R)]', \n",
    "           'mu_val2_err': 'Viscosity [lbm/(ft*sec)]', 'Cp_val2_err': 'Specific Heat[BTU/lbm*R]', \n",
    "           'gam_val2_err': 'Specific Heat Ratio [none]', 'rho_val2_err': 'Density [lbm/ft3]', 'R_val2_err': 'Gas Constant [BTU/(lbm*R)]'\n",
    "           }"
   ]
  },
  {
   "cell_type": "code",
   "execution_count": 1,
   "id": "ae8d4c68",
   "metadata": {},
   "outputs": [],
   "source": [
    "\n",
    "def plot_pressure_lines(data, xdata, ydata, foldername, title = None, xlabel = None, ylabel = None, numberofplots=1):\n",
    "    path ='!filepath!'+foldername\n",
    "    pressure_values = pd.unique(data['P'])\n",
    "    if numberofplots==1:\n",
    "        for p in pressure_values:\n",
    "            mask = data['P'] == p\n",
    "            df = data[mask]\n",
    "            ax = plt.subplot(111)\n",
    "            ax.plot(df[xdata],\n",
    "                     df[ydata],\n",
    "                     label = 'P = '+str(p))\n",
    "        plt.title('!fuelname! Properties')\n",
    "        plt.xlabel(SYMBOLS[xdata[0]])\n",
    "        plt.ylabel(SYMBOLS[ydata[0]])\n",
    "        plt.tight_layout(rect=[0,0,3,3])\n",
    "        box = ax.get_position()\n",
    "        ax.set_position([box.x0, box.y0 + box.height * 0.1,\n",
    "                         box.width, box.height * 0.9])\n",
    "        ax.legend(loc='upper center', bbox_to_anchor=(0.5, -0.1), fancybox=True, shadow=True, ncol=5, fontsize=8)\n",
    "        plt.savefig(path+'/'+str(ydata[0]+'vs'+str(xdata[0])), bbox_inches='tight')\n",
    "    elif numberofplots==2:\n",
    "        plot1 = plt.subplot(121)\n",
    "        plot2 = plt.subplot(122)\n",
    "        for p in pressure_values:\n",
    "            mask = data['P'] == p\n",
    "            df = data[mask]\n",
    "            plot1.plot(df[xdata[0]],\n",
    "                       df[ydata[0]],\n",
    "                       label = 'P = '+str(p))\n",
    "            plot2.plot(df[xdata[0]],\n",
    "                       df[ydata[1]],\n",
    "                       label = 'P = '+str(p))\n",
    "        plot1.set_xlabel(SYMBOLS[xdata[0]])\n",
    "        plot1.set_ylabel(SYMBOLS[ydata[0]])\n",
    "        plot2.set_xlabel(SYMBOLS[xdata[1]])\n",
    "        plot2.set_ylabel(SYMBOLS[ydata[1]])\n",
    "        plt.title('!fuelname! Properties')\n",
    "        plt.tight_layout(rect=[0,0,2,2])\n",
    "        plt.savefig(path+'/'+str(ydata[0]+'vs'+str(xdata[0])), bbox_inches='tight')\n",
    "        box = plot1.get_position()\n",
    "        plot1.set_position([box.x0, box.y0 + box.height * 0.1,\n",
    "                            box.width, box.height * 0.9])\n",
    "        plot1.legend(loc='upper center', bbox_to_anchor=(1.1, -0.11), fancybox=True, shadow=True, ncol=5)\n",
    "        box2 = plot2.get_position()\n",
    "        plot2.set_position([box2.x0, box2.y0 + box2.height * 0.1,\n",
    "                         box2.width, box2.height * 0.9])\n",
    "\n",
    "# for p in [['h'], ['s'], ['k'], ['mu'], ['Cp'], ['gam'], ['rho'], ['R']]:\n",
    "#     plot_pressure_lines(!data!, ['!x-parameter!'], p, foldername='!foldername!')\n",
    "#     plt.cla()"
   ]
  },
  {
   "cell_type": "code",
   "execution_count": 2,
   "id": "2786c515",
   "metadata": {},
   "outputs": [],
   "source": [
    "def contour_plot(data, x, y, z, foldername):\n",
    "    path ='!filepath!'+foldername\n",
    "    X = data[x[0]]\n",
    "    Y = data[y[0]]\n",
    "    Z = data[z[0]]\n",
    "    Xlin = np.linspace(X.min(), X.max(), 1000)\n",
    "    Ylin = np.linspace(Y.min(), Y.max(), 1000)\n",
    "    Xmesh, Ymesh = np.meshgrid(Xlin, Ylin)\n",
    "    Z_interp = interpolate.interp2d(X, Y, Z, kind ='linear')\n",
    "    levels = np.array([0, 0.001, 0.002, 0.003, 0.005, 0.007, 0.01, 0.02, 0.05, 0.1])\n",
    "    plt.contourf(Xmesh, Ymesh, Z_interp(Xlin, Ylin), colors=['blue', 'cornflowerblue', 'mediumseagreen', 'limegreen', 'greenyellow', 'yellow', 'orange', 'darkorange', 'red'], levels=levels, extend='both')\n",
    "    plt.colorbar().ax.set_title(z[0])\n",
    "    plt.tight_layout(rect=[0,0,3,3])\n",
    "    plt.title('!fuelname! Properties\\n% Error = |(Pkg - CEA) / CEA| * 100')\n",
    "    plt.xlabel(SYMBOLS[x[0]])\n",
    "    plt.ylabel(SYMBOLS[y[0]])\n",
    "    plt.savefig(path+'/'+str(z[0]), bbox_inches='tight')\n",
    "\n",
    "# for p in [['h_val_err'], ['s_val_err'], ['k_val_err'], ['mu_val_err'], ['Cp_val_err'], ['gam_val_err'], ['rho_val_err'], ['R_val_err']]:\n",
    "#     contour_plot(!data!, ['!x-paramter!'], ['!y-parameter!'], p, foldername='!foldername!')\n",
    "#     plt.clf() "
   ]
  },
  {
   "cell_type": "code",
   "execution_count": null,
   "id": "1dd88483",
   "metadata": {},
   "outputs": [],
   "source": []
  }
 ],
 "metadata": {
  "kernelspec": {
   "display_name": "Python 3",
   "language": "python",
   "name": "python3"
  },
  "language_info": {
   "codemirror_mode": {
    "name": "ipython",
    "version": 3
   },
   "file_extension": ".py",
   "mimetype": "text/x-python",
   "name": "python",
   "nbconvert_exporter": "python",
   "pygments_lexer": "ipython3",
   "version": "3.7.0"
  }
 },
 "nbformat": 4,
 "nbformat_minor": 5
}
