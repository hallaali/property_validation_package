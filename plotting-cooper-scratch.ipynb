{
 "cells": [
  {
   "cell_type": "code",
   "execution_count": 2,
   "id": "313ac518-6e22-435a-9066-5098cb9eb7b0",
   "metadata": {},
   "outputs": [],
   "source": [
    "import numpy as np\n",
    "import matplotlib.pyplot as plt\n",
    "import pandas as pd\n",
    "plt.style.use('fivethirtyeight')"
   ]
  },
  {
   "cell_type": "code",
   "execution_count": 3,
   "id": "38704a1d-6fdf-431a-afef-61ab633a8770",
   "metadata": {},
   "outputs": [],
   "source": [
    "x = np.linspace(0, 1)\n",
    "y1 = x**2\n",
    "y2 = x**3/3\n",
    "y3 = x**4/4\n",
    "data1  = pd.DataFrame(data = np.vstack([x, y1]).T, columns=['T_val', 'h_val_CEA'])\n",
    "data2  = pd.DataFrame(data = np.vstack([x, y2]).T, columns=['T_val', 'h_val_CEA'])\n",
    "data3  = pd.DataFrame(data = np.vstack([x, y3]).T, columns=['T_val', 'h_val_CEA'])\n",
    "# pd.DataFrame?\n",
    "# data1\n",
    "file_path = r'C:\\Users\\halla\\OneDrive\\Documents\\GitHub\\property_validation_package\\Excel_transfer_try.csv'\n",
    "headers = ['P_val', 'T_val', 'h_val_CEA', 's_val_CEA', 'k_val_CEA', 'mu_val_CEA', 'Cp_val_CEA', 'gam_val_CEA', 'rho_val_CEA', 'R_val_CEA', 'h_val_pkg', 's_val_pkg', 'k_val_pkg', 'mu_val_pkg', 'Cp_val_pkg', 'gam_val_pkg', 'rho_val_pkg', 'R_val_pkg', 'h_val_err', 's_val_err', 'k_val_err', 'mu_val_err', 'Cp_val_err', 'gam_val_err', 'rho_val_err', 'R_val_err', 'outlier_val']\n",
    "df = pd.read_csv(file_path, usecols=headers, sep=',')"
   ]
  },
  {
   "cell_type": "code",
   "execution_count": 4,
   "id": "e548ec47-5306-43c1-aaf8-67648af0a107",
   "metadata": {},
   "outputs": [],
   "source": [
    "label_dictionary = {} \n",
    "label_dictionary['T_val']= 'Temperature'\n",
    "label_dictionary['h_val_CEA']= 'enthalpy_CEA'"
   ]
  },
  {
   "cell_type": "code",
   "execution_count": 5,
   "id": "35e72587-633c-4a81-afb1-7cc3b1b931ee",
   "metadata": {},
   "outputs": [],
   "source": [
    "def twodplot1(dataframes, xdata = 'T_val',  ydata = 'h_val_CEA', colors = ['b', 'g', 'k']):\n",
    "    lines = {}\n",
    "    for i, data in enumerate(dataframes):\n",
    "        \n",
    "        lines[i] = plt.plot(data[xdata], \n",
    "                            data[ydata],\n",
    "                            label = 'fluid {}'.format(i),\n",
    "                           color = colors[i])\n",
    "    plt.xlabel(label_dictionary[xdata])\n",
    "    plt.ylabel(label_dictionary[ydata])\n",
    "    plt.legend()\n",
    "    return lines\n",
    "\n",
    "#lines = twodplot1([data1, data2, data3])\n",
    "#lines = twodplot1([df])\n",
    "\n",
    "# if __name__ == '__main__':\n",
    "#     dataframes = [pd.read_csv(csv) for csv in csvlist]\n",
    "#     twodplot1(dataframes,)\n",
    "    "
   ]
  },
  {
   "cell_type": "code",
   "execution_count": 18,
   "id": "a2a6bc6a",
   "metadata": {},
   "outputs": [],
   "source": [
    "file_path = r'C:\\Users\\halla\\OneDrive\\Documents\\GitHub\\property_validation_package\\Excel_transfer_try.csv'\n",
    "headers = ['P_val', 'T_val', 'h_val_CEA', 's_val_CEA', 'k_val_CEA', 'mu_val_CEA', 'Cp_val_CEA', 'gam_val_CEA', 'rho_val_CEA', 'R_val_CEA', 'h_val_pkg', 's_val_pkg', 'k_val_pkg', 'mu_val_pkg', 'Cp_val_pkg', 'gam_val_pkg', 'rho_val_pkg', 'R_val_pkg', 'h_val_err', 's_val_err', 'k_val_err', 'mu_val_err', 'Cp_val_err', 'gam_val_err', 'rho_val_err', 'R_val_err', 'outlier_val']\n",
    "data = pd.read_csv(file_path, usecols=headers, sep=',')\n",
    "\n",
    "def twodplot(data, xdata,  ydata, colors = ['b', 'g', 'r', 'k'], markers=['.', 'o', 'x']):\n",
    "    for i in range(len(ydata)):\n",
    "        plot = plt.plot(data[xdata[0]],\n",
    "                        data[ydata[i]],\n",
    "                        label = ydata[i],\n",
    "                        color = colors[i],\n",
    "                        marker=markers[i])\n",
    "        plt.xlabel(xdata[0])\n",
    "        plt.ylabel(ydata[i])\n",
    "        plt.title(ydata[i]+' vs '+xdata[0])\n",
    "    plt.legend()\n",
    "    plt.show()\n",
    "    return plot\n",
    "\n",
    "\n",
    "# twodplot(df, ['T_val'], ['h_val_pkg'])"
   ]
  },
  {
   "cell_type": "code",
   "execution_count": 69,
   "id": "ecef23d4-7801-4f26-9ca9-f2836917cad9",
   "metadata": {},
   "outputs": [
    {
     "data": {
      "image/png": "[encoded data removed]",
      "text/plain": [
       "<Figure size 432x288 with 1 Axes>"
      ]
     },
     "metadata": {},
     "output_type": "display_data"
    }
   ],
   "source": [
    "X, Y = np.meshgrid(np.linspace(0, 1,11), np.linspace(0,1, 11))\n",
    "Z = X**2 +Y**2\n",
    "\n",
    "def contourplot(data, X, Y, Z):\n",
    "    # x = data[X]\n",
    "    # y = data[Y]\n",
    "    # z = data[Z]\n",
    "    # plt.contourf(x, y, z)\n",
    "    plt.contourf(X, Y, Z)\n",
    "\n",
    "contourplot(df, X, Y, Z)"
   ]
  },
  {
   "cell_type": "code",
   "execution_count": null,
   "id": "508a6978-88a2-4387-8d54-cc375ca6564c",
   "metadata": {},
   "outputs": [],
   "source": []
  }
 ],
 "metadata": {
  "kernelspec": {
   "display_name": "Python 3",
   "language": "python",
   "name": "python3"
  },
  "language_info": {
   "codemirror_mode": {
    "name": "ipython",
    "version": 3
   },
   "file_extension": ".py",
   "mimetype": "text/x-python",
   "name": "python",
   "nbconvert_exporter": "python",
   "pygments_lexer": "ipython3",
   "version": "3.7.0"
  }
 },
 "nbformat": 4,
 "nbformat_minor": 5
}
